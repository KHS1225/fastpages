{
  "nbformat": 4,
  "nbformat_minor": 0,
  "metadata": {
    "colab": {
      "name": "2022-06-22-Comptuer-Science-Fundamentals.ipynb",
      "provenance": [],
      "authorship_tag": "ABX9TyO/Dsw5ioHowC8mLiDT7PeD",
      "include_colab_link": true
    },
    "kernelspec": {
      "name": "python3",
      "display_name": "Python 3"
    },
    "language_info": {
      "name": "python"
    }
  },
  "cells": [
    {
      "cell_type": "markdown",
      "metadata": {
        "id": "view-in-github",
        "colab_type": "text"
      },
      "source": [
        "<a href=\"https://colab.research.google.com/github/KHS1225/fastpages/blob/master/_notebooks/2022_06_22_Comptuer_Science_Fundamentals.ipynb\" target=\"_parent\"><img src=\"https://colab.research.google.com/assets/colab-badge.svg\" alt=\"Open In Colab\"/></a>"
      ]
    },
    {
      "cell_type": "markdown",
      "source": [
        "This post will go over some fundamental Computer Science concepts that would be useful to understand if this is your first time starting out with programming"
      ],
      "metadata": {
        "id": "_rH48mPfZQXp"
      }
    },
    {
      "cell_type": "code",
      "execution_count": null,
      "metadata": {
        "id": "c1NDwQuTZGZ9"
      },
      "outputs": [],
      "source": [
        ""
      ]
    }
  ]
}